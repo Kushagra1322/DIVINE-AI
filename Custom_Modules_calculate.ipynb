{
 "cells": [
  {
   "cell_type": "code",
   "execution_count": null,
   "id": "2d1a636e",
   "metadata": {},
   "outputs": [],
   "source": [
    "#MODULES are code library which contains set of codes\n",
    "'''\n",
    "modules consists of function,classes,variable & also another module\n",
    "\n",
    "\n",
    "Types of modules are :\n",
    "1.)Custom Modules\n",
    "2.)Built-in Modules\n",
    "3.)External Modules\n",
    "\n",
    "'''\n",
    "\n"
   ]
  },
  {
   "cell_type": "code",
   "execution_count": 1,
   "id": "350f233b",
   "metadata": {},
   "outputs": [],
   "source": [
    "#1.) Custom modules\n",
    "def add1(a,b):\n",
    "    return a+b\n",
    "def sub1(a,b):\n",
    "    return a-b\n",
    "def mul1(a,b):\n",
    "    return a*b\n",
    "def div1(a,b):\n",
    "    return a/b\n"
   ]
  }
 ],
 "metadata": {
  "kernelspec": {
   "display_name": "Python 3",
   "language": "python",
   "name": "python3"
  },
  "language_info": {
   "codemirror_mode": {
    "name": "ipython",
    "version": 3
   },
   "file_extension": ".py",
   "mimetype": "text/x-python",
   "name": "python",
   "nbconvert_exporter": "python",
   "pygments_lexer": "ipython3",
   "version": "3.8.10"
  }
 },
 "nbformat": 4,
 "nbformat_minor": 5
}
