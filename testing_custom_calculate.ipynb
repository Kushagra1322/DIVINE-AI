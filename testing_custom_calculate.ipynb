{
 "cells": [
  {
   "cell_type": "code",
   "execution_count": 3,
   "id": "6a7881d9",
   "metadata": {},
   "outputs": [
    {
     "name": "stdout",
     "output_type": "stream",
     "text": [
      "3\n"
     ]
    }
   ],
   "source": [
    "#import the custom module that we created \n",
    "import Custom_Modules_calculate\n",
    "var=Custom_Modules_calculate.add1(1,2)\n",
    "print(var)"
   ]
  },
  {
   "cell_type": "code",
   "execution_count": 5,
   "id": "9921725d",
   "metadata": {},
   "outputs": [
    {
     "name": "stdout",
     "output_type": "stream",
     "text": [
      "9\n",
      "4\n"
     ]
    }
   ],
   "source": [
    "#if we want to import some specific function rather than import whole module \n",
    "from Custom_Modules_calculate import add1,sub1\n",
    "var=add1(5,4)\n",
    "varr=sub1(10,6)\n",
    "print(var)\n",
    "print(varr)"
   ]
  },
  {
   "cell_type": "code",
   "execution_count": 6,
   "id": "b6820fb2",
   "metadata": {},
   "outputs": [
    {
     "name": "stdout",
     "output_type": "stream",
     "text": [
      "2.0\n",
      "728\n"
     ]
    }
   ],
   "source": [
    "#alternat method to import a module\n",
    "from Custom_Modules_calculate import*\n",
    "var=div1(10,5)\n",
    "mul=mul1(13,56)\n",
    "print(var)\n",
    "print(mul)"
   ]
  }
 ],
 "metadata": {
  "kernelspec": {
   "display_name": "Python 3",
   "language": "python",
   "name": "python3"
  },
  "language_info": {
   "codemirror_mode": {
    "name": "ipython",
    "version": 3
   },
   "file_extension": ".py",
   "mimetype": "text/x-python",
   "name": "python",
   "nbconvert_exporter": "python",
   "pygments_lexer": "ipython3",
   "version": "3.8.10"
  }
 },
 "nbformat": 4,
 "nbformat_minor": 5
}
