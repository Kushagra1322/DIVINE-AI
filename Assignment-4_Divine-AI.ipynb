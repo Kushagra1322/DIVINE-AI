{
 "cells": [
  {
   "cell_type": "code",
   "execution_count": 1,
   "id": "6f4913ab",
   "metadata": {},
   "outputs": [],
   "source": [
    "#You need to read item details from one dictionary and create one final printable bill with good format\n",
    "dic={\n",
    "    \"apple\":10,\n",
    "    \"mangoes\":20,\n",
    "    \"banana\":12,\n",
    "    \"dragon fruit\":20\n",
    "}\n",
    "var=open(\"bill.txt\",'x')\n",
    "var=open(\"bill.txt\",'a')\n",
    "var.write(\"\\n Item \\t Value\")\n",
    "for i in dic:\n",
    "    var.write(f\"\\n {i} : {dic[i]}\")\n",
    "var.close()\n"
   ]
  }
 ],
 "metadata": {
  "kernelspec": {
   "display_name": "Python 3",
   "language": "python",
   "name": "python3"
  },
  "language_info": {
   "codemirror_mode": {
    "name": "ipython",
    "version": 3
   },
   "file_extension": ".py",
   "mimetype": "text/x-python",
   "name": "python",
   "nbconvert_exporter": "python",
   "pygments_lexer": "ipython3",
   "version": "3.8.10"
  }
 },
 "nbformat": 4,
 "nbformat_minor": 5
}
