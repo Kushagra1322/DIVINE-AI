{
 "cells": [
  {
   "cell_type": "code",
   "execution_count": 2,
   "id": "0b2d1102",
   "metadata": {},
   "outputs": [
    {
     "name": "stdout",
     "output_type": "stream",
     "text": [
      "<class 'list'>\n"
     ]
    }
   ],
   "source": [
    "#list\n",
    "l1=[1,2,3,4]\n",
    "print(type(l1))"
   ]
  },
  {
   "cell_type": "code",
   "execution_count": 3,
   "id": "4a5b6acc",
   "metadata": {},
   "outputs": [
    {
     "name": "stdout",
     "output_type": "stream",
     "text": [
      "4\n"
     ]
    }
   ],
   "source": [
    "#how to find lenght\n",
    "print(len(l1))"
   ]
  },
  {
   "cell_type": "code",
   "execution_count": 4,
   "id": "03a87aae",
   "metadata": {},
   "outputs": [
    {
     "name": "stdout",
     "output_type": "stream",
     "text": [
      "4\n"
     ]
    }
   ],
   "source": [
    "#how to print specific values in a list\n",
    "print(l1[3])"
   ]
  },
  {
   "cell_type": "code",
   "execution_count": 14,
   "id": "91f4b1a3",
   "metadata": {},
   "outputs": [
    {
     "name": "stdout",
     "output_type": "stream",
     "text": [
      "[1, 2, 'Kushagra', 'Srivastav', 'Srivastav', 'Srivastav', 3, 'Kushagra']\n"
     ]
    }
   ],
   "source": [
    "#how to change the values in a list\n",
    "l1[2]=\"Kushagra\"\n",
    "print(l1)"
   ]
  },
  {
   "cell_type": "code",
   "execution_count": 15,
   "id": "977238de",
   "metadata": {
    "scrolled": true
   },
   "outputs": [
    {
     "name": "stdout",
     "output_type": "stream",
     "text": [
      "[1, 2, 'Kushagra', 'Srivastav', 'Srivastav', 'Srivastav', 3, 'Kushagra']\n"
     ]
    }
   ],
   "source": [
    "print(l1)"
   ]
  },
  {
   "cell_type": "code",
   "execution_count": 16,
   "id": "74a3a066",
   "metadata": {},
   "outputs": [
    {
     "name": "stdout",
     "output_type": "stream",
     "text": [
      "8\n"
     ]
    }
   ],
   "source": [
    "print(len(l1))"
   ]
  },
  {
   "cell_type": "code",
   "execution_count": 38,
   "id": "918bfe48",
   "metadata": {},
   "outputs": [
    {
     "name": "stdout",
     "output_type": "stream",
     "text": [
      "[1, 2, 'Kushagra', 'Srivastav', 'Abhi', 'Abhi', 'Abhi', 'Abhi', 'Abhi', 'Abhi', 'Abhi', 'Abhi', 'Abhi', 'Abhi', 'Abhi', 'Abhi', 'Abhi', 'Abhi', 'Abhi', 'Abhi', 'Abhi', 'Abhi', 'Abhi', 'Abhi', 'Abhi', 'Srivastav', 'Srivastav', 3, 'Kushagra']\n"
     ]
    }
   ],
   "source": [
    "#how to insert value\n",
    "l1.insert(4,\"Abhi\")\n",
    "print(l1)"
   ]
  },
  {
   "cell_type": "code",
   "execution_count": 3,
   "id": "7e69afcf",
   "metadata": {},
   "outputs": [
    {
     "name": "stdout",
     "output_type": "stream",
     "text": [
      "['Kushagra', 'Srivastav', 'Abhi', 13, 69]\n"
     ]
    }
   ],
   "source": [
    "l2=[\"Kushagra\",\"Srivastav\",\"Abhi\",13,69]\n",
    "print(l2)"
   ]
  },
  {
   "cell_type": "code",
   "execution_count": 4,
   "id": "16546ac7",
   "metadata": {},
   "outputs": [
    {
     "name": "stdout",
     "output_type": "stream",
     "text": [
      "['Kushagra', 'Srivastav', 'Abhi', 13, 69, 'myappend']\n"
     ]
    }
   ],
   "source": [
    "#how to append data  in list\n",
    "l2.append(\"myappend\")\n",
    "print(l2)"
   ]
  },
  {
   "cell_type": "code",
   "execution_count": 7,
   "id": "dabb42a6",
   "metadata": {},
   "outputs": [
    {
     "name": "stdout",
     "output_type": "stream",
     "text": [
      "['Kushagra', 'Srivastav', 'Abhi', 13, 'myappend']\n"
     ]
    }
   ],
   "source": [
    "#how to remove\n",
    "l2.remove(69)\n",
    "print(l2)"
   ]
  },
  {
   "cell_type": "code",
   "execution_count": 8,
   "id": "cc6b70bc",
   "metadata": {},
   "outputs": [
    {
     "name": "stdout",
     "output_type": "stream",
     "text": [
      "['Kushagra', 'Srivastav', 'Abhi', 13]\n"
     ]
    }
   ],
   "source": [
    "#how to remove the data just by index number\n",
    "l2.pop(4)\n",
    "print(l2)"
   ]
  },
  {
   "cell_type": "code",
   "execution_count": 9,
   "id": "d078c235",
   "metadata": {},
   "outputs": [
    {
     "name": "stdout",
     "output_type": "stream",
     "text": [
      "['Kushagra', 'Srivastav', 'Abhi']\n"
     ]
    }
   ],
   "source": [
    "#alternative method to remove the data is by using del fun\n",
    "del l2[3]\n",
    "print(l2)"
   ]
  },
  {
   "cell_type": "code",
   "execution_count": 10,
   "id": "e3eea964",
   "metadata": {},
   "outputs": [
    {
     "name": "stdout",
     "output_type": "stream",
     "text": [
      "[3, 5, 56, 69, 78]\n"
     ]
    }
   ],
   "source": [
    "#how to sort the list\n",
    "l3=[3,5,56,78,69]\n",
    "l3.sort()\n",
    "print(l3)\n",
    "\n"
   ]
  },
  {
   "cell_type": "code",
   "execution_count": 11,
   "id": "03fbe692",
   "metadata": {},
   "outputs": [
    {
     "name": "stdout",
     "output_type": "stream",
     "text": [
      "[78, 69, 56, 5, 3]\n"
     ]
    }
   ],
   "source": [
    "#how to reverse sort \n",
    "l3.sort(reverse=True)\n",
    "print(l3)\n"
   ]
  },
  {
   "cell_type": "code",
   "execution_count": 12,
   "id": "e77faa6b",
   "metadata": {},
   "outputs": [
    {
     "name": "stdout",
     "output_type": "stream",
     "text": [
      "['Kushagra', 'Srivastav', 'Abhi', 78, 69, 56, 5, 3]\n"
     ]
    }
   ],
   "source": [
    "#how to merge all the list \n",
    "#here we take a new variable(list) as merge\n",
    "merge=l2+l3\n",
    "print(merge)"
   ]
  },
  {
   "cell_type": "code",
   "execution_count": null,
   "id": "1e4757e6",
   "metadata": {},
   "outputs": [],
   "source": []
  }
 ],
 "metadata": {
  "kernelspec": {
   "display_name": "Python 3",
   "language": "python",
   "name": "python3"
  },
  "language_info": {
   "codemirror_mode": {
    "name": "ipython",
    "version": 3
   },
   "file_extension": ".py",
   "mimetype": "text/x-python",
   "name": "python",
   "nbconvert_exporter": "python",
   "pygments_lexer": "ipython3",
   "version": "3.8.10"
  }
 },
 "nbformat": 4,
 "nbformat_minor": 5
}
