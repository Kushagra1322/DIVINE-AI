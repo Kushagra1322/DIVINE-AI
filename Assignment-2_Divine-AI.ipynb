{
 "cells": [
  {
   "cell_type": "code",
   "execution_count": 20,
   "id": "2d500202",
   "metadata": {},
   "outputs": [
    {
     "name": "stdout",
     "output_type": "stream",
     "text": [
      "Enter the number :24\n",
      "the required table of 24 is\n",
      "24 x 1 = 24\n",
      "24 x 2 = 48\n",
      "24 x 3 = 72\n",
      "24 x 4 = 96\n",
      "24 x 5 = 120\n",
      "24 x 6 = 144\n",
      "24 x 7 = 168\n",
      "24 x 8 = 192\n",
      "24 x 9 = 216\n",
      "24 x 10 = 240\n"
     ]
    }
   ],
   "source": [
    "#WAP to print table of n, where n is entered by the user\n",
    "n=int(input(\"Enter the number :\"))\n",
    "print(f\"the required table of {n} is\") \n",
    "for i in range(1,10+1):\n",
    "    print(n,\"x\",i,\"=\",i*n)"
   ]
  },
  {
   "cell_type": "code",
   "execution_count": 21,
   "id": "5f2a2643",
   "metadata": {},
   "outputs": [
    {
     "name": "stdout",
     "output_type": "stream",
     "text": [
      "Enter natural number :78\n",
      "The required sum for the given natural number 78 is 3081\n"
     ]
    }
   ],
   "source": [
    "#WAP to print sum of n natural numbers, where n is entered by the user\n",
    "n=int(input(\"Enter natural number :\"))\n",
    "sum=0\n",
    "for i in range (1,n+1):\n",
    "    sum=sum+i\n",
    "\n",
    "print(\"The required sum for the given natural number {} is {}\".format(n,sum))"
   ]
  },
  {
   "cell_type": "code",
   "execution_count": 2,
   "id": "70f37a83",
   "metadata": {},
   "outputs": [
    {
     "name": "stdout",
     "output_type": "stream",
     "text": [
      "Enter the number :5\n",
      "120\n"
     ]
    }
   ],
   "source": [
    "#WAP to print the factorial of the given number, where number is entered by the user.\n",
    "n=int(input(\"Enter the number :\"))\n",
    "prod=1\n",
    "for i in range(1,n+1):\n",
    "    prod=prod*i\n",
    "print(prod)\n",
    "    \n"
   ]
  },
  {
   "cell_type": "code",
   "execution_count": 24,
   "id": "420393a5",
   "metadata": {},
   "outputs": [
    {
     "name": "stdout",
     "output_type": "stream",
     "text": [
      "enter values\n",
      "1\n",
      "2\n",
      "3\n",
      "4\n",
      "5\n",
      "3.0\n"
     ]
    }
   ],
   "source": [
    "'''\n",
    "WAP to input sales of the month and calculate the average sales of that month\n",
    "'''\n",
    "totalsales=0\n",
    "print(\"enter values\")\n",
    "for i in range(31):\n",
    "    sale=int(input())\n",
    "    totalsales+=sale\n",
    "print (f\"{totalsales/31}\")"
   ]
  }
 ],
 "metadata": {
  "kernelspec": {
   "display_name": "Python 3",
   "language": "python",
   "name": "python3"
  },
  "language_info": {
   "codemirror_mode": {
    "name": "ipython",
    "version": 3
   },
   "file_extension": ".py",
   "mimetype": "text/x-python",
   "name": "python",
   "nbconvert_exporter": "python",
   "pygments_lexer": "ipython3",
   "version": "3.8.10"
  }
 },
 "nbformat": 4,
 "nbformat_minor": 5
}
