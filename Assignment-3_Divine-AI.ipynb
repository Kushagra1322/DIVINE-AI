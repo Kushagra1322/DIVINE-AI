{
 "cells": [
  {
   "cell_type": "code",
   "execution_count": 2,
   "id": "192ce70a",
   "metadata": {},
   "outputs": [
    {
     "name": "stdout",
     "output_type": "stream",
     "text": [
      "Largest element is: 99\n"
     ]
    }
   ],
   "source": [
    " #Python program to find largest\n",
    "# number in a list\n",
    "  \n",
    "def Max(list1):\n",
    "    max = list1[0]\n",
    "    for x in list1:\n",
    "        if x > max :\n",
    "             max = x\n",
    "    return max\n",
    "list1 = [10, 20, 4, 45, 99]\n",
    "print(\"Largest element is:\",Max(list1))"
   ]
  },
  {
   "cell_type": "code",
   "execution_count": 4,
   "id": "9dfa7654",
   "metadata": {},
   "outputs": [
    {
     "name": "stdout",
     "output_type": "stream",
     "text": [
      "Enter the size of a list :4\n",
      "enter the elements :\n",
      "1\n",
      "2\n",
      "3\n",
      "4\n",
      "Enter the nth highest number :2\n",
      "Your final output is coming to be 3\n"
     ]
    }
   ],
   "source": [
    "#to print nth highest number\n",
    "def nthMax(list1,N):\n",
    "    finalList=[]\n",
    "    for i in range(0,N):\n",
    "        max=0\n",
    "        for j in range(len(list1)):\n",
    "            if list1[j]>max:\n",
    "                max=list1[j];\n",
    "        list1.remove(max)\n",
    "        finalList.append(max)\n",
    "        \n",
    "    print(\"Your final output is coming to be\",finalList[N-1])\n",
    "listi=[]\n",
    "size=int(input(\"Enter the size of a list :\"))\n",
    "print(\"enter the elements :\")\n",
    "for i in range(0,size):\n",
    "    add=int(input())\n",
    "    listi.append(add)\n",
    "n=int(input(\"Enter the nth highest number :\"))\n",
    "nthMax(listi,n)"
   ]
  }
 ],
 "metadata": {
  "kernelspec": {
   "display_name": "Python 3",
   "language": "python",
   "name": "python3"
  },
  "language_info": {
   "codemirror_mode": {
    "name": "ipython",
    "version": 3
   },
   "file_extension": ".py",
   "mimetype": "text/x-python",
   "name": "python",
   "nbconvert_exporter": "python",
   "pygments_lexer": "ipython3",
   "version": "3.8.10"
  }
 },
 "nbformat": 4,
 "nbformat_minor": 5
}
